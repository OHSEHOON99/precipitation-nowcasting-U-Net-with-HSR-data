{
 "cells": [
  {
   "cell_type": "markdown",
   "metadata": {},
   "source": [
    "## **Decompressing KMA HSR Composite Rainfall Data**\n",
    "\n",
    "The **HSR (Hybrid Surface Rainfall) composite rainfall data** provided by the Korea Meteorological Administration (KMA) is available in `.tar.gz` format with 5-minute intervals. Due to the large volume of data, parallel processing is utilized to speed up the decompression process.\n",
    "\n",
    "#### Overview\n",
    "- **Data Type**: KMA HSR composite rainfall data\n",
    "- **File Format**: `.tar.gz`\n",
    "- **Time Interval**: 5-minute interval data\n",
    "- **Processing Method**: Parallel processing (using the Joblib library for multi-core CPU utilization)\n",
    "- **Output**: Extracted raw data stored in the specified directory (`raw_data`)"
   ]
  },
  {
   "cell_type": "code",
   "execution_count": null,
   "metadata": {},
   "outputs": [],
   "source": [
    "import os\n",
    "import gzip\n",
    "import tarfile\n",
    "import numpy as np\n",
    "from PIL import Image\n",
    "from tqdm import tqdm\n",
    "from joblib import Parallel, delayed"
   ]
  },
  {
   "cell_type": "code",
   "execution_count": 13,
   "metadata": {},
   "outputs": [
    {
     "name": "stdout",
     "output_type": "stream",
     "text": [
      "Extracting /home/sehoon/Desktop/측량학회/Code/TODO/RDR_HSR_202007.tar.gz...\n",
      "Extracting /home/sehoon/Desktop/측량학회/Code/TODO/RDR_HSR_202209.tar.gz...\n",
      "Extracting /home/sehoon/Desktop/측량학회/Code/TODO/RDR_HSR_202210.tar.gz...\n",
      "Extracting /home/sehoon/Desktop/측량학회/Code/TODO/RDR_HSR_202305.tar.gz...\n",
      "Extracting /home/sehoon/Desktop/측량학회/Code/TODO/RDR_HSR_202001.tar.gz...\n",
      "Extracting /home/sehoon/Desktop/측량학회/Code/TODO/RDR_HSR_202308.tar.gz...\n",
      "Extracting /home/sehoon/Desktop/측량학회/Code/TODO/RDR_HSR_202012.tar.gz...\n",
      "Extracting /home/sehoon/Desktop/측량학회/Code/TODO/RDR_HSR_202309.tar.gz...\n",
      "Extracting /home/sehoon/Desktop/측량학회/Code/TODO/RDR_HSR_202201.tar.gz...\n",
      "Extracting /home/sehoon/Desktop/측량학회/Code/TODO/RDR_HSR_202108.tar.gz...\n",
      "Extracting /home/sehoon/Desktop/측량학회/Code/TODO/RDR_HSR_202208.tar.gz...\n",
      "Extracting /home/sehoon/Desktop/측량학회/Code/TODO/RDR_HSR_202211.tar.gz...\n",
      "Extracting /home/sehoon/Desktop/측량학회/Code/TODO/RDR_HSR_202302.tar.gz...\n",
      "Extracting /home/sehoon/Desktop/측량학회/Code/TODO/RDR_HSR_202205.tar.gz...\n",
      "Extracting /home/sehoon/Desktop/측량학회/Code/TODO/RDR_HSR_202011.tar.gz...\n",
      "Extracting /home/sehoon/Desktop/측량학회/Code/TODO/RDR_HSR_202202.tar.gz...\n",
      "Extracting /home/sehoon/Desktop/측량학회/Code/TODO/RDR_HSR_202105.tar.gz...\n",
      "Extracting /home/sehoon/Desktop/측량학회/Code/TODO/RDR_HSR_202304.tar.gz...\n",
      "Extracting /home/sehoon/Desktop/측량학회/Code/TODO/RDR_HSR_202106.tar.gz...\n",
      "Extracting /home/sehoon/Desktop/측량학회/Code/TODO/RDR_HSR_202104.tar.gz...\n",
      "Extracting /home/sehoon/Desktop/측량학회/Code/TODO/RDR_HSR_202109.tar.gz...\n",
      "Extracting /home/sehoon/Desktop/측량학회/Code/TODO/RDR_HSR_202004.tar.gz...\n",
      "Extracting /home/sehoon/Desktop/측량학회/Code/TODO/RDR_HSR_202206.tar.gz...\n",
      "Extracting /home/sehoon/Desktop/측량학회/Code/TODO/RDR_HSR_202212.tar.gz...\n",
      "Extracting /home/sehoon/Desktop/측량학회/Code/TODO/RDR_HSR_202307.tar.gz...\n",
      "Extracting /home/sehoon/Desktop/측량학회/Code/TODO/RDR_HSR_202103.tar.gz...\n",
      "Extracting /home/sehoon/Desktop/측량학회/Code/TODO/RDR_HSR_202006.tar.gz...\n",
      "Extracting /home/sehoon/Desktop/측량학회/Code/TODO/RDR_HSR_202111.tar.gz...\n",
      "Extracting /home/sehoon/Desktop/측량학회/Code/TODO/RDR_HSR_202110.tar.gz...\n",
      "Extracting /home/sehoon/Desktop/측량학회/Code/TODO/RDR_HSR_202204.tar.gz...\n",
      "Extracting /home/sehoon/Desktop/측량학회/Code/TODO/RDR_HSR_202306.tar.gz...\n",
      "Extracting /home/sehoon/Desktop/측량학회/Code/TODO/RDR_HSR_202207.tar.gz...\n",
      "Extracting /home/sehoon/Desktop/측량학회/Code/TODO/RDR_HSR_202009.tar.gz...\n",
      "Extracting /home/sehoon/Desktop/측량학회/Code/TODO/RDR_HSR_202002.tar.gz...\n",
      "Extracting /home/sehoon/Desktop/측량학회/Code/TODO/RDR_HSR_202010.tar.gz...\n",
      "Extracting /home/sehoon/Desktop/측량학회/Code/TODO/RDR_HSR_202008.tar.gz...\n",
      "Extracting /home/sehoon/Desktop/측량학회/Code/TODO/RDR_HSR_202102.tar.gz...\n",
      "Extracting /home/sehoon/Desktop/측량학회/Code/TODO/RDR_HSR_202107.tar.gz...\n",
      "Extracting /home/sehoon/Desktop/측량학회/Code/TODO/RDR_HSR_202005.tar.gz...\n",
      "Extracting /home/sehoon/Desktop/측량학회/Code/TODO/RDR_HSR_202003.tar.gz...\n",
      "Extracting /home/sehoon/Desktop/측량학회/Code/TODO/RDR_HSR_202101.tar.gz...\n",
      "Extracting /home/sehoon/Desktop/측량학회/Code/TODO/RDR_HSR_202301.tar.gz...\n",
      "Extracting /home/sehoon/Desktop/측량학회/Code/TODO/RDR_HSR_202303.tar.gz...\n",
      "Extracting /home/sehoon/Desktop/측량학회/Code/TODO/RDR_HSR_202112.tar.gz...\n",
      "Extracting /home/sehoon/Desktop/측량학회/Code/TODO/RDR_HSR_202203.tar.gz...\n",
      "Extracted /home/sehoon/Desktop/측량학회/Code/TODO/RDR_HSR_202010.tar.gz into /home/sehoon/Desktop/측량학회/0919/\n",
      "Extracted /home/sehoon/Desktop/측량학회/Code/TODO/RDR_HSR_202205.tar.gz into /home/sehoon/Desktop/측량학회/0919/\n",
      "Extracted /home/sehoon/Desktop/측량학회/Code/TODO/RDR_HSR_202204.tar.gz into /home/sehoon/Desktop/측량학회/0919/\n",
      "Extracted /home/sehoon/Desktop/측량학회/Code/TODO/RDR_HSR_202303.tar.gz into /home/sehoon/Desktop/측량학회/0919/\n",
      "Extracted /home/sehoon/Desktop/측량학회/Code/TODO/RDR_HSR_202107.tar.gz into /home/sehoon/Desktop/측량학회/0919/\n",
      "Extracted /home/sehoon/Desktop/측량학회/Code/TODO/RDR_HSR_202011.tar.gz into /home/sehoon/Desktop/측량학회/0919/\n",
      "Extracted /home/sehoon/Desktop/측량학회/Code/TODO/RDR_HSR_202302.tar.gz into /home/sehoon/Desktop/측량학회/0919/\n",
      "Extracted /home/sehoon/Desktop/측량학회/Code/TODO/RDR_HSR_202211.tar.gz into /home/sehoon/Desktop/측량학회/0919/\n",
      "Extracted /home/sehoon/Desktop/측량학회/Code/TODO/RDR_HSR_202210.tar.gz into /home/sehoon/Desktop/측량학회/0919/\n",
      "Extracted /home/sehoon/Desktop/측량학회/Code/TODO/RDR_HSR_202004.tar.gz into /home/sehoon/Desktop/측량학회/0919/\n",
      "Extracted /home/sehoon/Desktop/측량학회/Code/TODO/RDR_HSR_202304.tar.gz into /home/sehoon/Desktop/측량학회/0919/\n",
      "Extracted /home/sehoon/Desktop/측량학회/Code/TODO/RDR_HSR_202201.tar.gz into /home/sehoon/Desktop/측량학회/0919/\n",
      "Extracted /home/sehoon/Desktop/측량학회/Code/TODO/RDR_HSR_202110.tar.gz into /home/sehoon/Desktop/측량학회/0919/\n",
      "Extracted /home/sehoon/Desktop/측량학회/Code/TODO/RDR_HSR_202111.tar.gz into /home/sehoon/Desktop/측량학회/0919/\n",
      "Extracted /home/sehoon/Desktop/측량학회/Code/TODO/RDR_HSR_202202.tar.gz into /home/sehoon/Desktop/측량학회/0919/\n",
      "Extracted /home/sehoon/Desktop/측량학회/Code/TODO/RDR_HSR_202102.tar.gz into /home/sehoon/Desktop/측량학회/0919/\n",
      "Extracted /home/sehoon/Desktop/측량학회/Code/TODO/RDR_HSR_202301.tar.gz into /home/sehoon/Desktop/측량학회/0919/\n",
      "Extracted /home/sehoon/Desktop/측량학회/Code/TODO/RDR_HSR_202112.tar.gz into /home/sehoon/Desktop/측량학회/0919/\n",
      "Extracted /home/sehoon/Desktop/측량학회/Code/TODO/RDR_HSR_202206.tar.gz into /home/sehoon/Desktop/측량학회/0919/\n",
      "Extracted /home/sehoon/Desktop/측량학회/Code/TODO/RDR_HSR_202203.tar.gz into /home/sehoon/Desktop/측량학회/0919/\n",
      "Extracted /home/sehoon/Desktop/측량학회/Code/TODO/RDR_HSR_202003.tar.gz into /home/sehoon/Desktop/측량학회/0919/\n",
      "Extracted /home/sehoon/Desktop/측량학회/Code/TODO/RDR_HSR_202005.tar.gz into /home/sehoon/Desktop/측량학회/0919/\n",
      "Extracted /home/sehoon/Desktop/측량학회/Code/TODO/RDR_HSR_202103.tar.gz into /home/sehoon/Desktop/측량학회/0919/\n",
      "Extracted /home/sehoon/Desktop/측량학회/Code/TODO/RDR_HSR_202104.tar.gz into /home/sehoon/Desktop/측량학회/0919/\n",
      "Extracted /home/sehoon/Desktop/측량학회/Code/TODO/RDR_HSR_202306.tar.gz into /home/sehoon/Desktop/측량학회/0919/\n",
      "Extracted /home/sehoon/Desktop/측량학회/Code/TODO/RDR_HSR_202207.tar.gz into /home/sehoon/Desktop/측량학회/0919/\n",
      "Extracted /home/sehoon/Desktop/측량학회/Code/TODO/RDR_HSR_202106.tar.gz into /home/sehoon/Desktop/측량학회/0919/\n",
      "Extracted /home/sehoon/Desktop/측량학회/Code/TODO/RDR_HSR_202209.tar.gz into /home/sehoon/Desktop/측량학회/0919/\n",
      "Extracted /home/sehoon/Desktop/측량학회/Code/TODO/RDR_HSR_202012.tar.gz into /home/sehoon/Desktop/측량학회/0919/\n",
      "Extracted /home/sehoon/Desktop/측량학회/Code/TODO/RDR_HSR_202305.tar.gz into /home/sehoon/Desktop/측량학회/0919/\n",
      "Extracted /home/sehoon/Desktop/측량학회/Code/TODO/RDR_HSR_202208.tar.gz into /home/sehoon/Desktop/측량학회/0919/\n",
      "Extracted /home/sehoon/Desktop/측량학회/Code/TODO/RDR_HSR_202309.tar.gz into /home/sehoon/Desktop/측량학회/0919/\n",
      "Extracted /home/sehoon/Desktop/측량학회/Code/TODO/RDR_HSR_202105.tar.gz into /home/sehoon/Desktop/측량학회/0919/\n",
      "Extracted /home/sehoon/Desktop/측량학회/Code/TODO/RDR_HSR_202308.tar.gz into /home/sehoon/Desktop/측량학회/0919/\n",
      "Extracted /home/sehoon/Desktop/측량학회/Code/TODO/RDR_HSR_202109.tar.gz into /home/sehoon/Desktop/측량학회/0919/\n",
      "Extracted /home/sehoon/Desktop/측량학회/Code/TODO/RDR_HSR_202006.tar.gz into /home/sehoon/Desktop/측량학회/0919/\n",
      "Extracted /home/sehoon/Desktop/측량학회/Code/TODO/RDR_HSR_202212.tar.gz into /home/sehoon/Desktop/측량학회/0919/\n",
      "Extracted /home/sehoon/Desktop/측량학회/Code/TODO/RDR_HSR_202307.tar.gz into /home/sehoon/Desktop/측량학회/0919/\n",
      "Extracted /home/sehoon/Desktop/측량학회/Code/TODO/RDR_HSR_202008.tar.gz into /home/sehoon/Desktop/측량학회/0919/\n",
      "Extracted /home/sehoon/Desktop/측량학회/Code/TODO/RDR_HSR_202002.tar.gz into /home/sehoon/Desktop/측량학회/0919/\n",
      "Extracted /home/sehoon/Desktop/측량학회/Code/TODO/RDR_HSR_202009.tar.gz into /home/sehoon/Desktop/측량학회/0919/\n",
      "Extracted /home/sehoon/Desktop/측량학회/Code/TODO/RDR_HSR_202101.tar.gz into /home/sehoon/Desktop/측량학회/0919/\n",
      "Extracted /home/sehoon/Desktop/측량학회/Code/TODO/RDR_HSR_202108.tar.gz into /home/sehoon/Desktop/측량학회/0919/\n",
      "Extracted /home/sehoon/Desktop/측량학회/Code/TODO/RDR_HSR_202001.tar.gz into /home/sehoon/Desktop/측량학회/0919/\n",
      "Extracted /home/sehoon/Desktop/측량학회/Code/TODO/RDR_HSR_202007.tar.gz into /home/sehoon/Desktop/측량학회/0919/\n"
     ]
    }
   ],
   "source": [
    "def extract_single_tar_gz(file_path, output_dir):\n",
    "    \"\"\"\n",
    "    Extracts a single .tar.gz file into the specified output directory.\n",
    "    \"\"\"\n",
    "    print(f'Extracting {file_path}...')\n",
    "\n",
    "    # Open the tar.gz file and extract its contents\n",
    "    with tarfile.open(file_path, 'r:gz') as tar:\n",
    "        def reset_members(tarinfo, path=None):\n",
    "            # Clear any unsafe file permissions\n",
    "            tarinfo.mode = 0o755  # Set default permissions\n",
    "            return tarinfo\n",
    "        \n",
    "        # Extract all files into a subdirectory within the output directory\n",
    "        tar.extractall(path=output_dir, members=None, filter=reset_members)\n",
    "        print(f'Extracted {file_path} into {output_dir}')\n",
    "\n",
    "def extract_tar_gz(input_dir, output_dir, n_jobs=-1):\n",
    "    \"\"\"\n",
    "    Extracts all .tar.gz files in the input directory into the specified output directory using joblib for parallelism.\n",
    "    \"\"\"\n",
    "    # Check if the output directory exists, if not create it\n",
    "    if not os.path.exists(output_dir):\n",
    "        os.makedirs(output_dir)\n",
    "\n",
    "    # Get all .tar.gz files in the input directory\n",
    "    tar_gz_files = [os.path.join(input_dir, filename) for filename in os.listdir(input_dir) if filename.endswith(\".tar.gz\")]\n",
    "\n",
    "    # Use joblib to parallelize the extraction process\n",
    "    Parallel(n_jobs=n_jobs)(delayed(extract_single_tar_gz)(file_path, output_dir) for file_path in tar_gz_files)\n",
    "\n",
    "# Example usage:\n",
    "input_dir = \"/home/sehoon/Desktop/측량학회/Code/TODO/\"\n",
    "output_dir = \"/home/sehoon/Desktop/측량학회/0919/\"\n",
    "\n",
    "# Set n_jobs to -1 to use all available CPU cores\n",
    "extract_tar_gz(input_dir, output_dir, n_jobs=-1)"
   ]
  },
  {
   "cell_type": "markdown",
   "metadata": {},
   "source": [
    "## **Raw Data to Cropped Images (BIN -> 256x256 Pixels PNG)**\n",
    "\n",
    "This script processes raw `.bin.gz` files, extracts reflectivity data, crops a specified region of interest (ROI), and saves the result as 16-bit PNG images. The process leverages parallel processing to speed up the conversion of large datasets.\n",
    "\n",
    "#### 1. **Read the `.gz` file**\n",
    "- The file is opened using `gzip.open`, and raw binary data is read.\n",
    "\n",
    "#### 2. **Extract and reshape reflectivity data**\n",
    "- The dBZ data is extracted by skipping the first 1024 bytes of the file.\n",
    "- It is reshaped into a 2D array of size `(2881, 2305)`.\n",
    "\n",
    "#### 3. **Quality control of dBZ values**\n",
    "- dBZ values less than `-1000` are clamped to `-1000`.\n",
    "- All values are shifted by adding `+1000` to ensure they are positive.\n",
    "\n",
    "#### 4. **Flip the image vertically**\n",
    "- The reflectivity array is flipped upside down using `np.flipud` to match the coordinate system.\n",
    "\n",
    "#### 5. **Crop the region of interest (ROI)**\n",
    "- A `256x256` pixel region is cropped from the specified target index (`target_idx`). In this Study, it was set to **Seoul**\n",
    "\n",
    "#### 6. **Save as 16-bit PNG**\n",
    "- The cropped array is converted to a 16-bit image using `PIL.Image`.\n",
    "- The output directory structure is created based on the timestamp in the filename.\n",
    "- The image is saved with a `.png` extension."
   ]
  },
  {
   "cell_type": "code",
   "execution_count": 5,
   "metadata": {},
   "outputs": [],
   "source": [
    "def list_files(src_dir, file_format):\n",
    "    \"\"\"\n",
    "    Retrieve a sorted array of file paths in a directory and its subdirectories, filtered by a specified file format.\n",
    "    \"\"\"\n",
    "    file_names = []\n",
    "    for (root, directories, files) in os.walk(src_dir):\n",
    "        for file in files:\n",
    "            if file.endswith(file_format):\n",
    "                img_dir = os.path.join(root, file)\n",
    "                file_names.append(img_dir)\n",
    "\n",
    "    return np.array(sorted(file_names))\n",
    "\n",
    "def process_file(gz_path, src_dir, dst_dir, target_idx=(1439, 1214), size=256):\n",
    "    try:\n",
    "        # Read the .gz file\n",
    "        with gzip.open(os.path.join(src_dir, gz_path), 'rb') as f:\n",
    "            data = f.read()\n",
    "\n",
    "        # Convert dBZ data and reshape it into an array\n",
    "        n_row_target, n_col_target = target_idx\n",
    "        dBZ = np.frombuffer(data[1024:], dtype=np.int16)  # No division by 100\n",
    "        dBZ = dBZ.reshape((2881, 2305)).copy()  # Copy the array to allow modification\n",
    "\n",
    "        # QC Reflectivity: Set dBZ values less than -1000 to -1000\n",
    "        dBZ[dBZ < -1000] = -1000\n",
    "\n",
    "        # Add +1000 to all dBZ values to ensure they are positive\n",
    "        dBZ = dBZ + 1000\n",
    "\n",
    "        # Flip the image vertically (reverse the coordinate system)\n",
    "        dBZ = np.flipud(dBZ)\n",
    "\n",
    "        # Crop the ROI (Region of Interest) with a size of 256x256 pixels\n",
    "        dBZ_cropped = dBZ[n_row_target: n_row_target + size, n_col_target: n_col_target + size]\n",
    "\n",
    "        # Save the cropped region as a 16-bit PNG image\n",
    "        img = Image.fromarray(dBZ_cropped.astype(np.uint16))  # Convert to 16-bit before saving\n",
    "        img_dir = os.path.join(dst_dir, gz_path[-19:-13], gz_path[-13:-11])\n",
    "        os.makedirs(img_dir, exist_ok=True)\n",
    "        img.save(os.path.join(img_dir, gz_path[-19:-7] + '.png'))\n",
    "\n",
    "    except Exception as e:\n",
    "        print(f\"An error occurred for {gz_path}, {e}\")\n",
    "        return gz_path  # Return the file path if an error occurred during processing\n",
    "\n",
    "    return None  # Indicate successful processing\n",
    "\n",
    "def img_cropping_and_saving(src_dir, dst_dir):\n",
    "    input_names = list_files(src_dir, '.bin.gz')\n",
    "    error_names = []\n",
    "\n",
    "    # Calculate half of the total CPU cores\n",
    "    cpu_cores = os.cpu_count()\n",
    "\n",
    "    # Execute parallel processing\n",
    "    results = Parallel(n_jobs=cpu_cores)(\n",
    "        delayed(process_file)(gz_path, src_dir, dst_dir) for gz_path in tqdm(input_names, desc=\"Processing files\")\n",
    "    )\n",
    "\n",
    "    # Track files that encountered errors during processing\n",
    "    error_names = [gz_path for gz_path in results if gz_path is not None]\n",
    "\n",
    "    return error_names"
   ]
  },
  {
   "cell_type": "code",
   "execution_count": 15,
   "metadata": {},
   "outputs": [
    {
     "name": "stderr",
     "output_type": "stream",
     "text": [
      "Processing files:  65%|██████▌   | 256512/394216 [13:20<07:24, 310.11it/s]"
     ]
    },
    {
     "name": "stdout",
     "output_type": "stream",
     "text": [
      "An error occurred for /home/sehoon/Desktop/측량학회/HSR/RDR_HSR_202206/09/RDR_CMP_HSR_PUB_202206091115.bin.gz, Error -3 while decompressing data: invalid literal/length code\n"
     ]
    },
    {
     "name": "stderr",
     "output_type": "stream",
     "text": [
      "Processing files:  65%|██████▌   | 256640/394216 [13:21<07:09, 320.33it/s]"
     ]
    },
    {
     "name": "stdout",
     "output_type": "stream",
     "text": [
      "An error occurred for /home/sehoon/Desktop/측량학회/HSR/RDR_HSR_202206/09/RDR_CMP_HSR_PUB_202206092005.bin.gz, CRC check failed 0xcca44147 != 0x53a9f75d\n"
     ]
    },
    {
     "name": "stderr",
     "output_type": "stream",
     "text": [
      "Processing files:  66%|██████▌   | 258368/394216 [13:27<08:20, 271.67it/s]"
     ]
    },
    {
     "name": "stdout",
     "output_type": "stream",
     "text": [
      "An error occurred for /home/sehoon/Desktop/측량학회/HSR/RDR_HSR_202206/15/RDR_CMP_HSR_PUB_202206152015.bin.gz, Not a gzipped file (b'\\x00\\x00')\n"
     ]
    },
    {
     "name": "stderr",
     "output_type": "stream",
     "text": [
      "Processing files:  66%|██████▌   | 259328/394216 [13:30<07:26, 301.86it/s]"
     ]
    },
    {
     "name": "stdout",
     "output_type": "stream",
     "text": [
      "An error occurred for /home/sehoon/Desktop/측량학회/HSR/RDR_HSR_202206/19/RDR_CMP_HSR_PUB_202206190300.bin.gz, Error -3 while decompressing data: invalid literal/length code\n"
     ]
    },
    {
     "name": "stderr",
     "output_type": "stream",
     "text": [
      "Processing files:  66%|██████▌   | 259520/394216 [13:31<07:22, 304.21it/s]"
     ]
    },
    {
     "name": "stdout",
     "output_type": "stream",
     "text": [
      "An error occurred for /home/sehoon/Desktop/측량학회/HSR/RDR_HSR_202206/19/RDR_CMP_HSR_PUB_202206192110.bin.gz, Not a gzipped file (b'\\x00\\x00')\n"
     ]
    },
    {
     "name": "stderr",
     "output_type": "stream",
     "text": [
      "Processing files: 100%|██████████| 394216/394216 [21:30<00:00, 305.43it/s]\n"
     ]
    }
   ],
   "source": [
    "src_dir = \"/home/sehoon/Desktop/측량학회/HSR/\"\n",
    "dst_dir = \"/home/sehoon/Desktop/측량학회/dBZ_png/\"\n",
    "target_idx = (1439, 1214)\n",
    "\n",
    "error_names = img_cropping_and_saving(src_dir, dst_dir)"
   ]
  }
 ],
 "metadata": {
  "kernelspec": {
   "display_name": "SAGI",
   "language": "python",
   "name": "python3"
  },
  "language_info": {
   "codemirror_mode": {
    "name": "ipython",
    "version": 3
   },
   "file_extension": ".py",
   "mimetype": "text/x-python",
   "name": "python",
   "nbconvert_exporter": "python",
   "pygments_lexer": "ipython3",
   "version": "3.12.5"
  }
 },
 "nbformat": 4,
 "nbformat_minor": 2
}
